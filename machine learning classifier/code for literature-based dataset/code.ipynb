import numpy as np
import pandas as pd
import warnings
warnings.filterwarnings("ignore", category=DeprecationWarning)
from sklearn import preprocessing
from sklearn.svm import SVC
from sklearn.ensemble import RandomForestClassifier
from sklearn import tree
from sklearn.cluster import KMeans
from sklearn import linear_model
from sklearn.ensemble import GradientBoostingClassifier,AdaBoostClassifier
import joblib
from sklearn.model_selection import train_test_split
from sklearn.metrics import precision_recall_fscore_support, precision_score, recall_score \
    , accuracy_score
from sklearn.naive_bayes import MultinomialNB,GaussianNB,ComplementNB,BernoulliNB #朴素贝叶斯模型(多项式)
from sklearn.linear_model import Perceptron #感知机
from sklearn.linear_model import LogisticRegression #逻辑斯谛回归
from sklearn.svm import SVC, LinearSVC

'''
def read_CSV(fname):
    #     tmp = np.loadtxt(open(fname, "rb"), dtype=np.str, delimiter=",")
    tmp = pd.read_csv(fname)
    data = tmp.iloc[1:, 2:].astype(np.float)  # 加载数据部分
    return data
'''


def run_test():
    word_embedding_train = np.loadtxt('non_Parkinson_embedding_substract.txt', dtype=bytes, delimiter="\t").astype(np.float)
    word_embedding_test = np.loadtxt('Parkinson_embedding_substract.txt', dtype=bytes, delimiter="\t").astype(np.float)
#     X_train, X_test, y_train, y_test = train_test_split(X, y, test_size=0.2)
    X_train = word_embedding_train[:,:-1]
    y_train = word_embedding_train[:,-1:]
    X_test = word_embedding_test[:,:-1]
    y_test = word_embedding_test[:,-1:]
#     print(X_train.shape, y_train.shape)
#     print(X_test.shape, y_test.shape)
    
    result = {}

#     pu_estimator = GradientBoostingClassifier()
#     pu_estimator = AdaBoostClassifier()
#     pu_estimator = RandomForestClassifier()
#     pu_estimator = tree.DecisionTreeClassifier()
#     pu_estimator = Perceptron() #感知机
#     pu_estimator = GaussianNB() #朴素贝叶斯(多项式) MultinomialNB,GaussianNB,ComplementNB,BernoulliNB
    
#     pu_estimator = LogisticRegression() #逻辑回归
    pu_estimator = SVC(gamma='scale')
#     pu_estimator = LinearSVC()
    estimator_name0 = 'SVM'
    print('Train ' + estimator_name0 + '...')

    pu_estimator.fit(X_train, y_train.ravel())
    joblib.dump(pu_estimator, 'train_SVM.m')

    y_pred = pu_estimator.predict(X_test)
    print('recall:{0:.4f}'.format(recall_score(y_test.ravel(), y_pred)))
#     print(y_pred)
    print('percision:{0:4f}'.format(precision_score(y_test.ravel(),y_pred)))
    result[estimator_name0] = [recall_score(y_test.ravel(),y_pred )]

    df = pd.DataFrame(result)
    result_f = 'result_SVM' + '_2012.csv'
    df.to_csv(result_f, index=False, sep=',')


if __name__ == '__main__':
    run_test()
    
# (76607, 100) (76607, 1)
# (5227, 100) (5227, 1)
# Train SVM...
# recall:0.9878
# percision:0.964152

# Train LogisticRegression...
# recall:0.9755
# percision:0.930657

# Train RandomForest...
# recall:0.9656
# percision:0.934815

# Train DecisionTree...
# recall:0.8914
# percision:0.822740

